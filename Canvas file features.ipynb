{
 "cells": [
  {
   "cell_type": "markdown",
   "id": "485c35f2",
   "metadata": {},
   "source": [
    "**obsidiantools in 15 minutes**"
   ]
  },
  {
   "cell_type": "markdown",
   "id": "a4dd8e34",
   "metadata": {},
   "source": [
    "# Libraries and config"
   ]
  },
  {
   "cell_type": "code",
   "execution_count": 1,
   "id": "7f59b557",
   "metadata": {},
   "outputs": [],
   "source": [
    "# built-in libs\n",
    "import os\n",
    "from pathlib import Path\n",
    "\n",
    "# obsidiantools requirements\n",
    "import numpy as np\n",
    "import pandas as pd\n",
    "import networkx as nx\n",
    "\n",
    "# extra libs for this notebook (visualise graph)\n",
    "import matplotlib.pyplot as plt\n",
    "%matplotlib inline"
   ]
  },
  {
   "cell_type": "code",
   "execution_count": 2,
   "id": "efcf891d",
   "metadata": {},
   "outputs": [
    {
     "name": "stdout",
     "output_type": "stream",
     "text": [
      "Name: obsidiantools\n",
      "Version: 0.11.0\n",
      "Summary: Obsidian Tools - a Python interface for Obsidian.md vaults\n",
      "Home-page: https://github.com/mfarragher/obsidiantools\n",
      "Author: Mark Farragher\n",
      "Author-email: \n",
      "License: BSD\n",
      "Location: /home/mark/micromamba/envs/obs/lib/python3.12/site-packages\n",
      "Requires: beautifulsoup4, bleach, html2text, lxml, markdown, networkx, numpy, pandas, pymdown-extensions, python-frontmatter\n",
      "Required-by: \n"
     ]
    }
   ],
   "source": [
    "!pip show obsidiantools"
   ]
  },
  {
   "cell_type": "markdown",
   "id": "8cd600fe",
   "metadata": {},
   "source": [
    "## Vault directory"
   ]
  },
  {
   "cell_type": "code",
   "execution_count": 3,
   "id": "cb3495be",
   "metadata": {},
   "outputs": [],
   "source": [
    "VAULT_DIR = Path(os.getcwd()) / 'vault-stub'"
   ]
  },
  {
   "cell_type": "code",
   "execution_count": 4,
   "id": "85f65a04",
   "metadata": {},
   "outputs": [
    {
     "data": {
      "text/plain": [
       "True"
      ]
     },
     "execution_count": 4,
     "metadata": {},
     "output_type": "execute_result"
    }
   ],
   "source": [
    "VAULT_DIR.exists()"
   ]
  },
  {
   "cell_type": "markdown",
   "id": "93b2b3d9",
   "metadata": {},
   "source": [
    "## Obsidian tools"
   ]
  },
  {
   "cell_type": "code",
   "execution_count": 5,
   "id": "e0e10433",
   "metadata": {},
   "outputs": [],
   "source": [
    "import obsidiantools.api as otools  # api shorthand"
   ]
  },
  {
   "cell_type": "markdown",
   "id": "c7f15b1b",
   "metadata": {},
   "source": [
    "# Canvas files"
   ]
  },
  {
   "cell_type": "markdown",
   "id": "86bc90c5",
   "metadata": {},
   "source": [
    "Use the `connect` method to get the info on your canvas files."
   ]
  },
  {
   "cell_type": "code",
   "execution_count": 6,
   "id": "d0dfef9a",
   "metadata": {},
   "outputs": [],
   "source": [
    "vault = otools.Vault(VAULT_DIR).connect()"
   ]
  },
  {
   "cell_type": "markdown",
   "id": "266650ba",
   "metadata": {},
   "source": [
    "obsidiantools has `Vault` attributes for canvas files.  The keys of these indices will always carry the `.canvas` file extension, to reflect how the links for canvas files appear in Obsidian.\n",
    "\n",
    "These are the attributes for canvas files:\n",
    "- `canvas_file_index`: index of canvas files where each value is a relative path to the file (the equivalent of `file_index` for canvas files)\n",
    "- `canvas_content_index`: index of canvas files where each value is a Python dict that represents the JSON content of a canvas file.\n",
    "- `canvas_graph_detail_index`: index of canvas files where each value is a tuple of information that can be used to recreate the layout of a canvas file in Obsidian.\n",
    "    - The first item in the tuple is the graph itself.\n",
    "    - The other two items contain the co-ordinates of nodes and the information about the graph edges.\n",
    "    - See a recipe further down for how to visualise a canvas file.  It will not show the 'group' in the visualisation, but the nodes will be in the expected layout."
   ]
  },
  {
   "cell_type": "markdown",
   "id": "a37e0d56",
   "metadata": {},
   "source": [
    "## Filepaths for canvas files"
   ]
  },
  {
   "cell_type": "markdown",
   "id": "702cf580",
   "metadata": {},
   "source": [
    "Get the filepaths of canvas files in the vault:"
   ]
  },
  {
   "cell_type": "code",
   "execution_count": 7,
   "id": "427e2edf",
   "metadata": {},
   "outputs": [
    {
     "data": {
      "text/plain": [
       "{'Crazy wall 2.canvas': PosixPath('Crazy wall 2.canvas'),\n",
       " 'Crazy wall.canvas': PosixPath('Crazy wall.canvas')}"
      ]
     },
     "execution_count": 7,
     "metadata": {},
     "output_type": "execute_result"
    }
   ],
   "source": [
    "vault.canvas_file_index"
   ]
  },
  {
   "cell_type": "markdown",
   "id": "7a06bca7",
   "metadata": {},
   "source": [
    "## Content from canvas files"
   ]
  },
  {
   "cell_type": "markdown",
   "id": "500aa8ec",
   "metadata": {},
   "source": [
    "Get the content from the `Crazy wall 2.canvas` file:"
   ]
  },
  {
   "cell_type": "code",
   "execution_count": 8,
   "id": "b7ba2a92",
   "metadata": {},
   "outputs": [
    {
     "data": {
      "text/plain": [
       "{'nodes': [{'id': '7ee7e59e29a5b091',\n",
       "   'x': -125,\n",
       "   'y': -30,\n",
       "   'width': 250,\n",
       "   'height': 60,\n",
       "   'type': 'text',\n",
       "   'text': \"Now we're getting meta...\"}],\n",
       " 'edges': []}"
      ]
     },
     "execution_count": 8,
     "metadata": {},
     "output_type": "execute_result"
    }
   ],
   "source": [
    "vault.canvas_content_index.get('Crazy wall 2.canvas')"
   ]
  },
  {
   "cell_type": "markdown",
   "id": "2ea77624",
   "metadata": {},
   "source": [
    "## Represent canvas file in a graph"
   ]
  },
  {
   "cell_type": "code",
   "execution_count": 9,
   "id": "0b3df04b",
   "metadata": {},
   "outputs": [],
   "source": [
    "import matplotlib.pyplot as plt\n",
    "# if using jupyter notebook:\n",
    "%matplotlib inline"
   ]
  },
  {
   "cell_type": "markdown",
   "id": "e0748b2d",
   "metadata": {},
   "source": [
    "Function using `canvas_graph_detail_index`:"
   ]
  },
  {
   "cell_type": "code",
   "execution_count": 10,
   "id": "55dbd910",
   "metadata": {},
   "outputs": [],
   "source": [
    "def plot_canvas_graph(vault, *, canvas_file, ax=None):\n",
    "    \"\"\"Note: canvas_file includes .canvas\"\"\"\n",
    "    G, pos, edge_labels = vault.canvas_graph_detail_index.get(\n",
    "        canvas_file)\n",
    "    if ax is None:\n",
    "        ax = plt.gca()\n",
    "    fig = nx.draw(G, pos, with_labels=True, ax=ax)\n",
    "    fig = nx.draw_networkx_edge_labels(\n",
    "        G, pos, edge_labels=edge_labels, ax=ax)\n",
    "    ax.set_title(f'{canvas_file} graph')\n",
    "    return fig"
   ]
  },
  {
   "cell_type": "markdown",
   "id": "6162d158",
   "metadata": {},
   "source": [
    "Plot graph for a file:"
   ]
  },
  {
   "cell_type": "code",
   "execution_count": 11,
   "id": "6f0d86a3",
   "metadata": {},
   "outputs": [
    {
     "data": {
      "image/png": "[encoded data removed]",
      "text/plain": [
       "<Figure size 640x480 with 1 Axes>"
      ]
     },
     "metadata": {},
     "output_type": "display_data"
    }
   ],
   "source": [
    "plot_canvas_graph(vault, canvas_file='Crazy wall.canvas')\n",
    "plt.show()"
   ]
  },
  {
   "cell_type": "markdown",
   "id": "54c8a089",
   "metadata": {},
   "source": [
    "![Obsidian graph](/img/demo-vault-canvas-graph-example.png?raw=true \"Obsidian graph\")"
   ]
  }
 ],
 "metadata": {
  "kernelspec": {
   "display_name": "Python 3 (ipykernel)",
   "language": "python",
   "name": "python3"
  },
  "language_info": {
   "codemirror_mode": {
    "name": "ipython",
    "version": 3
   },
   "file_extension": ".py",
   "mimetype": "text/x-python",
   "name": "python",
   "nbconvert_exporter": "python",
   "pygments_lexer": "ipython3",
   "version": "3.12.11"
  },
  "toc": {
   "base_numbering": 1,
   "nav_menu": {},
   "number_sections": true,
   "sideBar": true,
   "skip_h1_title": false,
   "title_cell": "Table of Contents",
   "title_sidebar": "Contents",
   "toc_cell": false,
   "toc_position": {},
   "toc_section_display": true,
   "toc_window_display": true
  }
 },
 "nbformat": 4,
 "nbformat_minor": 5
}
