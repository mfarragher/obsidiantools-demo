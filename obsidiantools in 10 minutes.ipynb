{
 "cells": [
  {
   "cell_type": "markdown",
   "id": "485c35f2",
   "metadata": {},
   "source": [
    "**obsidiantools in 10 minutes**"
   ]
  },
  {
   "cell_type": "markdown",
   "id": "a4dd8e34",
   "metadata": {},
   "source": [
    "# Libraries and config"
   ]
  },
  {
   "cell_type": "code",
   "execution_count": 1,
   "id": "7f59b557",
   "metadata": {},
   "outputs": [],
   "source": [
    "# built-in libs\n",
    "import os\n",
    "from pathlib import Path\n",
    "\n",
    "# obsidiantools requirements\n",
    "import numpy as np\n",
    "import pandas as pd\n",
    "import networkx as nx\n",
    "\n",
    "# extra libs for this notebook (visualise graph)\n",
    "import matplotlib.pyplot as plt\n",
    "%matplotlib inline"
   ]
  },
  {
   "cell_type": "code",
   "execution_count": 2,
   "id": "efcf891d",
   "metadata": {},
   "outputs": [
    {
     "name": "stdout",
     "output_type": "stream",
     "text": [
      "Name: obsidiantools\r\n",
      "Version: 0.7.0\r\n",
      "Summary: Obsidian Tools - a Python interface for Obsidian.md vaults\r\n",
      "Home-page: https://github.com/mfarragher/obsidiantools\r\n",
      "Author: Mark Farragher\r\n",
      "Author-email: \r\n",
      "License: BSD\r\n",
      "Location: /home/mark/miniconda3/envs/obsidian2/lib/python3.9/site-packages\r\n",
      "Requires: markdown, numpy, beautifulsoup4, python-frontmatter, pandas, networkx, html2text, lxml\r\n",
      "Required-by: \r\n"
     ]
    }
   ],
   "source": [
    "!pip show obsidiantools"
   ]
  },
  {
   "cell_type": "markdown",
   "id": "8cd600fe",
   "metadata": {},
   "source": [
    "## Vault directory"
   ]
  },
  {
   "cell_type": "code",
   "execution_count": 3,
   "id": "cb3495be",
   "metadata": {},
   "outputs": [],
   "source": [
    "VAULT_DIR = Path(os.getcwd()) / 'vault-stub'"
   ]
  },
  {
   "cell_type": "code",
   "execution_count": 4,
   "id": "85f65a04",
   "metadata": {},
   "outputs": [
    {
     "data": {
      "text/plain": [
       "True"
      ]
     },
     "execution_count": 4,
     "metadata": {},
     "output_type": "execute_result"
    }
   ],
   "source": [
    "VAULT_DIR.exists()"
   ]
  },
  {
   "cell_type": "markdown",
   "id": "93b2b3d9",
   "metadata": {},
   "source": [
    "## Obsidian tools"
   ]
  },
  {
   "cell_type": "code",
   "execution_count": 5,
   "id": "e0e10433",
   "metadata": {},
   "outputs": [],
   "source": [
    "import obsidiantools.api as otools  # api shorthand"
   ]
  },
  {
   "cell_type": "markdown",
   "id": "c7f15b1b",
   "metadata": {},
   "source": [
    "# Explore your vault"
   ]
  },
  {
   "cell_type": "markdown",
   "id": "9165d22b",
   "metadata": {},
   "source": [
    "## Simple one-liner for setup 😎"
   ]
  },
  {
   "cell_type": "markdown",
   "id": "87f21c34",
   "metadata": {},
   "source": [
    "The `Vault` class is the object you need for exploring your vault.  Set up the object with the path to your directory.\n",
    "\n",
    "- **CONNECT** is the method for connecting all your vault notes in a graph.\n",
    "    - Once called, you will be able to access metadata and do analysis of your notes.\n",
    "    - This needs to be called to get the essential structure of your vault, e.g. lookups for your notes, getting wikilinks, backlinks, etc.\n",
    "- **GATHER** is the method for gathering all your vault notes' content.\n",
    "    - Once called, you will be able to get plaintext content of individual notes and a master index of notes.\n",
    "    - This needs to be called to get the content of your notes.  There is config that can be specified in the function, e.g. whether to keep code blocks."
   ]
  },
  {
   "cell_type": "code",
   "execution_count": 6,
   "id": "d0dfef9a",
   "metadata": {},
   "outputs": [],
   "source": [
    "vault = otools.Vault(VAULT_DIR).connect().gather()"
   ]
  },
  {
   "cell_type": "markdown",
   "id": "f18888a9",
   "metadata": {},
   "source": [
    "Attributes that says whether the main functions are called:"
   ]
  },
  {
   "cell_type": "code",
   "execution_count": 7,
   "id": "153684d5",
   "metadata": {},
   "outputs": [
    {
     "name": "stdout",
     "output_type": "stream",
     "text": [
      "Connected?: True\n",
      "Gathered?:  True\n"
     ]
    }
   ],
   "source": [
    "print(f\"Connected?: {vault.is_connected}\")\n",
    "print(f\"Gathered?:  {vault.is_gathered}\")"
   ]
  },
  {
   "cell_type": "markdown",
   "id": "aa069f9a",
   "metadata": {},
   "source": [
    "Attribute that stores the location of your vault"
   ]
  },
  {
   "cell_type": "code",
   "execution_count": 8,
   "id": "88421277",
   "metadata": {},
   "outputs": [
    {
     "data": {
      "text/plain": [
       "PosixPath('/home/mark/Github/obsidiantools-demo/vault-stub')"
      ]
     },
     "execution_count": 8,
     "metadata": {},
     "output_type": "execute_result"
    }
   ],
   "source": [
    "vault.dirpath"
   ]
  },
  {
   "cell_type": "markdown",
   "id": "a37e0d56",
   "metadata": {},
   "source": [
    "## Tell me about my vault..."
   ]
  },
  {
   "cell_type": "markdown",
   "id": "019e1dcd",
   "metadata": {},
   "source": [
    "### 1. What files do I have in my vault?"
   ]
  },
  {
   "cell_type": "code",
   "execution_count": 9,
   "id": "34636817",
   "metadata": {},
   "outputs": [
    {
     "data": {
      "text/plain": [
       "{'Sussudio': PosixPath('Sussudio.md'),\n",
       " 'Isolated note': PosixPath('Isolated note.md'),\n",
       " 'Brevissimus moenia': PosixPath('lipsum/Brevissimus moenia.md'),\n",
       " 'Ne fuit': PosixPath('lipsum/Ne fuit.md'),\n",
       " 'Alimenta': PosixPath('lipsum/Alimenta.md'),\n",
       " 'Vulnera ubera': PosixPath('lipsum/Vulnera ubera.md'),\n",
       " 'Causam mihi': PosixPath('lipsum/Causam mihi.md')}"
      ]
     },
     "execution_count": 9,
     "metadata": {},
     "output_type": "execute_result"
    }
   ],
   "source": [
    "vault.file_index"
   ]
  },
  {
   "cell_type": "markdown",
   "id": "b3a11f05",
   "metadata": {},
   "source": [
    "If you want to filter on subdirectories, you can do so like this:"
   ]
  },
  {
   "cell_type": "code",
   "execution_count": 10,
   "id": "43edf4d3",
   "metadata": {},
   "outputs": [
    {
     "data": {
      "text/plain": [
       "{'Brevissimus moenia': PosixPath('lipsum/Brevissimus moenia.md'),\n",
       " 'Ne fuit': PosixPath('lipsum/Ne fuit.md'),\n",
       " 'Alimenta': PosixPath('lipsum/Alimenta.md'),\n",
       " 'Vulnera ubera': PosixPath('lipsum/Vulnera ubera.md'),\n",
       " 'Causam mihi': PosixPath('lipsum/Causam mihi.md')}"
      ]
     },
     "execution_count": 10,
     "metadata": {},
     "output_type": "execute_result"
    }
   ],
   "source": [
    "(otools.Vault(VAULT_DIR, include_subdirs=['lipsum'], include_root=False)\n",
    " .file_index)"
   ]
  },
  {
   "cell_type": "markdown",
   "id": "557df3f3",
   "metadata": {},
   "source": [
    "### 2. Which notes are 'isolated' in my vault?"
   ]
  },
  {
   "cell_type": "markdown",
   "id": "c0de5cbf",
   "metadata": {},
   "source": [
    "In graph analysis, nodes are **isolated** if they do not connect to other nodes in a graph.  Each NOTE in your vault in graph terminology is a node.\n",
    "\n",
    "In the Obsidian world, what does it mean for notes to be isolated?\n",
    "\n",
    "**Isolated notes** have **no backlinks** AND **no wikilinks**."
   ]
  },
  {
   "cell_type": "code",
   "execution_count": 11,
   "id": "3f51cf27",
   "metadata": {},
   "outputs": [
    {
     "data": {
      "text/plain": [
       "['Isolated note']"
      ]
     },
     "execution_count": 11,
     "metadata": {},
     "output_type": "execute_result"
    }
   ],
   "source": [
    "vault.isolated_notes"
   ]
  },
  {
   "cell_type": "markdown",
   "id": "2943ebc4",
   "metadata": {},
   "source": [
    "In the Obsidian community these notes are often called 'orphan notes'.  This interface is sticking to graph analysis terminology; NetworkX calls the graph nodes 'isolates'."
   ]
  },
  {
   "cell_type": "markdown",
   "id": "8ff3cfab",
   "metadata": {},
   "source": [
    "### 3. Which notes have I not got round to creating yet?"
   ]
  },
  {
   "cell_type": "markdown",
   "id": "9f55707f",
   "metadata": {},
   "source": [
    "When you create wikilinks in your vault notes, you can create connections to notes that you haven't created yet.  This means that these new notes have backlinks and are displayed in your vault graph, but they don't exist as markdown files.\n",
    "\n",
    "In this interface these are called **nonexistent notes**."
   ]
  },
  {
   "cell_type": "code",
   "execution_count": 12,
   "id": "6c5d1f28",
   "metadata": {},
   "outputs": [
    {
     "data": {
      "text/plain": [
       "['Aras Teucras',\n",
       " 'Virtus',\n",
       " 'Dives',\n",
       " 'Aetna',\n",
       " 'Bacchus',\n",
       " 'Vita',\n",
       " 'Caelum',\n",
       " 'American Psycho (film)',\n",
       " 'Tydides',\n",
       " 'Tarpeia',\n",
       " 'Manus',\n",
       " 'Amor']"
      ]
     },
     "execution_count": 12,
     "metadata": {},
     "output_type": "execute_result"
    }
   ],
   "source": [
    "vault.nonexistent_notes"
   ]
  },
  {
   "cell_type": "markdown",
   "id": "0cf2c9a4",
   "metadata": {},
   "source": [
    "### 4. What are the notes that have the most backlinks?"
   ]
  },
  {
   "cell_type": "markdown",
   "id": "b12fcdc1",
   "metadata": {},
   "source": [
    "The **`get_note_metadata`** method gives a summary of your vault's notes.\n",
    "\n",
    "You can see, for example:\n",
    "- Counts of backlinks (`n_backlinks`)\n",
    "- Counts of wikilinks (`n_wikilinks`)\n",
    "- Counts of embedded files (`n_embedded_files`)\n",
    "- Modified time (`modified_time`)\n",
    "\n",
    "Note: created time is available across all operating systems so that is not included."
   ]
  },
  {
   "cell_type": "code",
   "execution_count": 13,
   "id": "b0b3d260",
   "metadata": {},
   "outputs": [],
   "source": [
    "df = vault.get_note_metadata()"
   ]
  },
  {
   "cell_type": "code",
   "execution_count": 14,
   "id": "f647acff",
   "metadata": {},
   "outputs": [
    {
     "name": "stdout",
     "output_type": "stream",
     "text": [
      "<class 'pandas.core.frame.DataFrame'>\n",
      "Index: 19 entries, Sussudio to Aetna\n",
      "Data columns (total 7 columns):\n",
      " #   Column            Non-Null Count  Dtype         \n",
      "---  ------            --------------  -----         \n",
      " 0   rel_filepath      7 non-null      object        \n",
      " 1   abs_filepath      7 non-null      object        \n",
      " 2   note_exists       19 non-null     bool          \n",
      " 3   n_backlinks       19 non-null     int64         \n",
      " 4   n_wikilinks       7 non-null      float64       \n",
      " 5   n_embedded_files  7 non-null      float64       \n",
      " 6   modified_time     7 non-null      datetime64[ns]\n",
      "dtypes: bool(1), datetime64[ns](1), float64(2), int64(1), object(2)\n",
      "memory usage: 1.1+ KB\n"
     ]
    }
   ],
   "source": [
    "df.info()"
   ]
  },
  {
   "cell_type": "markdown",
   "id": "22a22c6b",
   "metadata": {},
   "source": [
    "Sort these notes by number of backlinks (descending order)."
   ]
  },
  {
   "cell_type": "code",
   "execution_count": 15,
   "id": "f8f4d1bf",
   "metadata": {},
   "outputs": [
    {
     "data": {
      "text/html": [
       "<div>\n",
       "<style scoped>\n",
       "    .dataframe tbody tr th:only-of-type {\n",
       "        vertical-align: middle;\n",
       "    }\n",
       "\n",
       "    .dataframe tbody tr th {\n",
       "        vertical-align: top;\n",
       "    }\n",
       "\n",
       "    .dataframe thead th {\n",
       "        text-align: right;\n",
       "    }\n",
       "</style>\n",
       "<table border=\"1\" class=\"dataframe\">\n",
       "  <thead>\n",
       "    <tr style=\"text-align: right;\">\n",
       "      <th></th>\n",
       "      <th>rel_filepath</th>\n",
       "      <th>abs_filepath</th>\n",
       "      <th>note_exists</th>\n",
       "      <th>n_backlinks</th>\n",
       "      <th>n_wikilinks</th>\n",
       "      <th>n_embedded_files</th>\n",
       "      <th>modified_time</th>\n",
       "    </tr>\n",
       "    <tr>\n",
       "      <th>note</th>\n",
       "      <th></th>\n",
       "      <th></th>\n",
       "      <th></th>\n",
       "      <th></th>\n",
       "      <th></th>\n",
       "      <th></th>\n",
       "      <th></th>\n",
       "    </tr>\n",
       "  </thead>\n",
       "  <tbody>\n",
       "    <tr>\n",
       "      <th>Bacchus</th>\n",
       "      <td>NaN</td>\n",
       "      <td>NaN</td>\n",
       "      <td>False</td>\n",
       "      <td>5</td>\n",
       "      <td>NaN</td>\n",
       "      <td>NaN</td>\n",
       "      <td>NaT</td>\n",
       "    </tr>\n",
       "    <tr>\n",
       "      <th>Caelum</th>\n",
       "      <td>NaN</td>\n",
       "      <td>NaN</td>\n",
       "      <td>False</td>\n",
       "      <td>3</td>\n",
       "      <td>NaN</td>\n",
       "      <td>NaN</td>\n",
       "      <td>NaT</td>\n",
       "    </tr>\n",
       "    <tr>\n",
       "      <th>Tarpeia</th>\n",
       "      <td>NaN</td>\n",
       "      <td>NaN</td>\n",
       "      <td>False</td>\n",
       "      <td>3</td>\n",
       "      <td>NaN</td>\n",
       "      <td>NaN</td>\n",
       "      <td>NaT</td>\n",
       "    </tr>\n",
       "    <tr>\n",
       "      <th>Manus</th>\n",
       "      <td>NaN</td>\n",
       "      <td>NaN</td>\n",
       "      <td>False</td>\n",
       "      <td>3</td>\n",
       "      <td>NaN</td>\n",
       "      <td>NaN</td>\n",
       "      <td>NaT</td>\n",
       "    </tr>\n",
       "    <tr>\n",
       "      <th>Vita</th>\n",
       "      <td>NaN</td>\n",
       "      <td>NaN</td>\n",
       "      <td>False</td>\n",
       "      <td>3</td>\n",
       "      <td>NaN</td>\n",
       "      <td>NaN</td>\n",
       "      <td>NaT</td>\n",
       "    </tr>\n",
       "    <tr>\n",
       "      <th>Ne fuit</th>\n",
       "      <td>lipsum/Ne fuit.md</td>\n",
       "      <td>/home/mark/Github/obsidiantools-demo/vault-stu...</td>\n",
       "      <td>True</td>\n",
       "      <td>2</td>\n",
       "      <td>6.0</td>\n",
       "      <td>0.0</td>\n",
       "      <td>2021-09-11 10:12:24.124289036</td>\n",
       "    </tr>\n",
       "    <tr>\n",
       "      <th>Amor</th>\n",
       "      <td>NaN</td>\n",
       "      <td>NaN</td>\n",
       "      <td>False</td>\n",
       "      <td>2</td>\n",
       "      <td>NaN</td>\n",
       "      <td>NaN</td>\n",
       "      <td>NaT</td>\n",
       "    </tr>\n",
       "    <tr>\n",
       "      <th>Aras Teucras</th>\n",
       "      <td>NaN</td>\n",
       "      <td>NaN</td>\n",
       "      <td>False</td>\n",
       "      <td>1</td>\n",
       "      <td>NaN</td>\n",
       "      <td>NaN</td>\n",
       "      <td>NaT</td>\n",
       "    </tr>\n",
       "    <tr>\n",
       "      <th>Dives</th>\n",
       "      <td>NaN</td>\n",
       "      <td>NaN</td>\n",
       "      <td>False</td>\n",
       "      <td>1</td>\n",
       "      <td>NaN</td>\n",
       "      <td>NaN</td>\n",
       "      <td>NaT</td>\n",
       "    </tr>\n",
       "    <tr>\n",
       "      <th>Tydides</th>\n",
       "      <td>NaN</td>\n",
       "      <td>NaN</td>\n",
       "      <td>False</td>\n",
       "      <td>1</td>\n",
       "      <td>NaN</td>\n",
       "      <td>NaN</td>\n",
       "      <td>NaT</td>\n",
       "    </tr>\n",
       "    <tr>\n",
       "      <th>Virtus</th>\n",
       "      <td>NaN</td>\n",
       "      <td>NaN</td>\n",
       "      <td>False</td>\n",
       "      <td>1</td>\n",
       "      <td>NaN</td>\n",
       "      <td>NaN</td>\n",
       "      <td>NaT</td>\n",
       "    </tr>\n",
       "    <tr>\n",
       "      <th>Aetna</th>\n",
       "      <td>NaN</td>\n",
       "      <td>NaN</td>\n",
       "      <td>False</td>\n",
       "      <td>1</td>\n",
       "      <td>NaN</td>\n",
       "      <td>NaN</td>\n",
       "      <td>NaT</td>\n",
       "    </tr>\n",
       "    <tr>\n",
       "      <th>American Psycho (film)</th>\n",
       "      <td>NaN</td>\n",
       "      <td>NaN</td>\n",
       "      <td>False</td>\n",
       "      <td>1</td>\n",
       "      <td>NaN</td>\n",
       "      <td>NaN</td>\n",
       "      <td>NaT</td>\n",
       "    </tr>\n",
       "    <tr>\n",
       "      <th>Causam mihi</th>\n",
       "      <td>lipsum/Causam mihi.md</td>\n",
       "      <td>/home/mark/Github/obsidiantools-demo/vault-stu...</td>\n",
       "      <td>True</td>\n",
       "      <td>1</td>\n",
       "      <td>4.0</td>\n",
       "      <td>0.0</td>\n",
       "      <td>2021-10-19 22:27:25.535676002</td>\n",
       "    </tr>\n",
       "    <tr>\n",
       "      <th>Brevissimus moenia</th>\n",
       "      <td>lipsum/Brevissimus moenia.md</td>\n",
       "      <td>/home/mark/Github/obsidiantools-demo/vault-stu...</td>\n",
       "      <td>True</td>\n",
       "      <td>1</td>\n",
       "      <td>3.0</td>\n",
       "      <td>0.0</td>\n",
       "      <td>2021-09-11 10:12:14.793214083</td>\n",
       "    </tr>\n",
       "    <tr>\n",
       "      <th>Isolated note</th>\n",
       "      <td>Isolated note.md</td>\n",
       "      <td>/home/mark/Github/obsidiantools-demo/vault-stu...</td>\n",
       "      <td>True</td>\n",
       "      <td>0</td>\n",
       "      <td>0.0</td>\n",
       "      <td>0.0</td>\n",
       "      <td>2021-12-18 21:45:14.806417942</td>\n",
       "    </tr>\n",
       "    <tr>\n",
       "      <th>Vulnera ubera</th>\n",
       "      <td>lipsum/Vulnera ubera.md</td>\n",
       "      <td>/home/mark/Github/obsidiantools-demo/vault-stu...</td>\n",
       "      <td>True</td>\n",
       "      <td>0</td>\n",
       "      <td>3.0</td>\n",
       "      <td>0.0</td>\n",
       "      <td>2021-09-11 10:12:36.532763004</td>\n",
       "    </tr>\n",
       "    <tr>\n",
       "      <th>Alimenta</th>\n",
       "      <td>lipsum/Alimenta.md</td>\n",
       "      <td>/home/mark/Github/obsidiantools-demo/vault-stu...</td>\n",
       "      <td>True</td>\n",
       "      <td>0</td>\n",
       "      <td>12.0</td>\n",
       "      <td>0.0</td>\n",
       "      <td>2021-09-11 16:32:00.429541111</td>\n",
       "    </tr>\n",
       "    <tr>\n",
       "      <th>Sussudio</th>\n",
       "      <td>Sussudio.md</td>\n",
       "      <td>/home/mark/Github/obsidiantools-demo/vault-stu...</td>\n",
       "      <td>True</td>\n",
       "      <td>0</td>\n",
       "      <td>1.0</td>\n",
       "      <td>2.0</td>\n",
       "      <td>2021-12-18 21:43:10.374552011</td>\n",
       "    </tr>\n",
       "  </tbody>\n",
       "</table>\n",
       "</div>"
      ],
      "text/plain": [
       "                                        rel_filepath  \\\n",
       "note                                                   \n",
       "Bacchus                                          NaN   \n",
       "Caelum                                           NaN   \n",
       "Tarpeia                                          NaN   \n",
       "Manus                                            NaN   \n",
       "Vita                                             NaN   \n",
       "Ne fuit                            lipsum/Ne fuit.md   \n",
       "Amor                                             NaN   \n",
       "Aras Teucras                                     NaN   \n",
       "Dives                                            NaN   \n",
       "Tydides                                          NaN   \n",
       "Virtus                                           NaN   \n",
       "Aetna                                            NaN   \n",
       "American Psycho (film)                           NaN   \n",
       "Causam mihi                    lipsum/Causam mihi.md   \n",
       "Brevissimus moenia      lipsum/Brevissimus moenia.md   \n",
       "Isolated note                       Isolated note.md   \n",
       "Vulnera ubera                lipsum/Vulnera ubera.md   \n",
       "Alimenta                          lipsum/Alimenta.md   \n",
       "Sussudio                                 Sussudio.md   \n",
       "\n",
       "                                                             abs_filepath  \\\n",
       "note                                                                        \n",
       "Bacchus                                                               NaN   \n",
       "Caelum                                                                NaN   \n",
       "Tarpeia                                                               NaN   \n",
       "Manus                                                                 NaN   \n",
       "Vita                                                                  NaN   \n",
       "Ne fuit                 /home/mark/Github/obsidiantools-demo/vault-stu...   \n",
       "Amor                                                                  NaN   \n",
       "Aras Teucras                                                          NaN   \n",
       "Dives                                                                 NaN   \n",
       "Tydides                                                               NaN   \n",
       "Virtus                                                                NaN   \n",
       "Aetna                                                                 NaN   \n",
       "American Psycho (film)                                                NaN   \n",
       "Causam mihi             /home/mark/Github/obsidiantools-demo/vault-stu...   \n",
       "Brevissimus moenia      /home/mark/Github/obsidiantools-demo/vault-stu...   \n",
       "Isolated note           /home/mark/Github/obsidiantools-demo/vault-stu...   \n",
       "Vulnera ubera           /home/mark/Github/obsidiantools-demo/vault-stu...   \n",
       "Alimenta                /home/mark/Github/obsidiantools-demo/vault-stu...   \n",
       "Sussudio                /home/mark/Github/obsidiantools-demo/vault-stu...   \n",
       "\n",
       "                        note_exists  n_backlinks  n_wikilinks  \\\n",
       "note                                                            \n",
       "Bacchus                       False            5          NaN   \n",
       "Caelum                        False            3          NaN   \n",
       "Tarpeia                       False            3          NaN   \n",
       "Manus                         False            3          NaN   \n",
       "Vita                          False            3          NaN   \n",
       "Ne fuit                        True            2          6.0   \n",
       "Amor                          False            2          NaN   \n",
       "Aras Teucras                  False            1          NaN   \n",
       "Dives                         False            1          NaN   \n",
       "Tydides                       False            1          NaN   \n",
       "Virtus                        False            1          NaN   \n",
       "Aetna                         False            1          NaN   \n",
       "American Psycho (film)        False            1          NaN   \n",
       "Causam mihi                    True            1          4.0   \n",
       "Brevissimus moenia             True            1          3.0   \n",
       "Isolated note                  True            0          0.0   \n",
       "Vulnera ubera                  True            0          3.0   \n",
       "Alimenta                       True            0         12.0   \n",
       "Sussudio                       True            0          1.0   \n",
       "\n",
       "                        n_embedded_files                 modified_time  \n",
       "note                                                                    \n",
       "Bacchus                              NaN                           NaT  \n",
       "Caelum                               NaN                           NaT  \n",
       "Tarpeia                              NaN                           NaT  \n",
       "Manus                                NaN                           NaT  \n",
       "Vita                                 NaN                           NaT  \n",
       "Ne fuit                              0.0 2021-09-11 10:12:24.124289036  \n",
       "Amor                                 NaN                           NaT  \n",
       "Aras Teucras                         NaN                           NaT  \n",
       "Dives                                NaN                           NaT  \n",
       "Tydides                              NaN                           NaT  \n",
       "Virtus                               NaN                           NaT  \n",
       "Aetna                                NaN                           NaT  \n",
       "American Psycho (film)               NaN                           NaT  \n",
       "Causam mihi                          0.0 2021-10-19 22:27:25.535676002  \n",
       "Brevissimus moenia                   0.0 2021-09-11 10:12:14.793214083  \n",
       "Isolated note                        0.0 2021-12-18 21:45:14.806417942  \n",
       "Vulnera ubera                        0.0 2021-09-11 10:12:36.532763004  \n",
       "Alimenta                             0.0 2021-09-11 16:32:00.429541111  \n",
       "Sussudio                             2.0 2021-12-18 21:43:10.374552011  "
      ]
     },
     "execution_count": 15,
     "metadata": {},
     "output_type": "execute_result"
    }
   ],
   "source": [
    "df.sort_values('n_backlinks', ascending=False)"
   ]
  },
  {
   "cell_type": "markdown",
   "id": "0b4f3365",
   "metadata": {},
   "source": [
    "We can see that **Bacchus** has the most backlinks.  It's actually a nonexistent note."
   ]
  },
  {
   "cell_type": "code",
   "execution_count": 16,
   "id": "7aa4204a",
   "metadata": {},
   "outputs": [
    {
     "data": {
      "text/plain": [
       "['Ne fuit', 'Alimenta', 'Alimenta', 'Alimenta', 'Alimenta']"
      ]
     },
     "execution_count": 16,
     "metadata": {},
     "output_type": "execute_result"
    }
   ],
   "source": [
    "vault.get_backlinks('Bacchus')"
   ]
  },
  {
   "cell_type": "code",
   "execution_count": 17,
   "id": "8ca47830",
   "metadata": {},
   "outputs": [
    {
     "data": {
      "text/plain": [
       "{'Ne fuit': 1, 'Alimenta': 4}"
      ]
     },
     "execution_count": 17,
     "metadata": {},
     "output_type": "execute_result"
    }
   ],
   "source": [
    "vault.get_backlink_counts('Bacchus')"
   ]
  },
  {
   "cell_type": "markdown",
   "id": "f36d0ae4",
   "metadata": {},
   "source": [
    "You can see all the backlinks in the `backlinks_index`."
   ]
  },
  {
   "cell_type": "code",
   "execution_count": 18,
   "id": "048fb5f2",
   "metadata": {},
   "outputs": [
    {
     "data": {
      "text/plain": [
       "{'Sussudio': [],\n",
       " 'Isolated note': [],\n",
       " 'Brevissimus moenia': ['Alimenta'],\n",
       " 'Ne fuit': ['Alimenta', 'Causam mihi'],\n",
       " 'Alimenta': [],\n",
       " 'Vulnera ubera': [],\n",
       " 'Causam mihi': ['Ne fuit'],\n",
       " 'American Psycho (film)': ['Sussudio'],\n",
       " 'Tarpeia': ['Brevissimus moenia', 'Alimenta', 'Vulnera ubera'],\n",
       " 'Caelum': ['Brevissimus moenia', 'Ne fuit', 'Vulnera ubera'],\n",
       " 'Vita': ['Brevissimus moenia', 'Alimenta', 'Vulnera ubera'],\n",
       " 'Aras Teucras': ['Ne fuit'],\n",
       " 'Manus': ['Ne fuit', 'Alimenta', 'Causam mihi'],\n",
       " 'Bacchus': ['Ne fuit', 'Alimenta', 'Alimenta', 'Alimenta', 'Alimenta'],\n",
       " 'Amor': ['Ne fuit', 'Alimenta'],\n",
       " 'Virtus': ['Alimenta'],\n",
       " 'Tydides': ['Alimenta'],\n",
       " 'Dives': ['Causam mihi'],\n",
       " 'Aetna': ['Causam mihi']}"
      ]
     },
     "execution_count": 18,
     "metadata": {},
     "output_type": "execute_result"
    }
   ],
   "source": [
    "vault.backlinks_index"
   ]
  },
  {
   "cell_type": "markdown",
   "id": "f01ecb4e",
   "metadata": {},
   "source": [
    "Similar functionality exists in the API for wikilinks (e.g. `wikilinks_index`, `get_wikilinks`)"
   ]
  },
  {
   "cell_type": "markdown",
   "id": "b1460577",
   "metadata": {},
   "source": [
    "What are the embedded files in Sussudio?"
   ]
  },
  {
   "cell_type": "code",
   "execution_count": 19,
   "id": "2c42f87a",
   "metadata": {},
   "outputs": [
    {
     "data": {
      "text/plain": [
       "['Sussudio.mp3', '1999.flac']"
      ]
     },
     "execution_count": 19,
     "metadata": {},
     "output_type": "execute_result"
    }
   ],
   "source": [
    "vault.get_embedded_files('Sussudio')"
   ]
  },
  {
   "cell_type": "markdown",
   "id": "c414772b",
   "metadata": {},
   "source": [
    "### 5. What are the tags and front matter in notes?"
   ]
  },
  {
   "cell_type": "markdown",
   "id": "5514c873",
   "metadata": {},
   "source": [
    "By default the embedded files are not shown in the Obsidian graph, but there is an option to show them in the graph of a vault.  Currently that capability is not supported in `obsidiantools`; only the default behaviour is supported."
   ]
  },
  {
   "cell_type": "markdown",
   "id": "0860eb75",
   "metadata": {},
   "source": [
    "Load the front matter for Sussudio parsed as a dict:"
   ]
  },
  {
   "cell_type": "code",
   "execution_count": 20,
   "id": "18da458e",
   "metadata": {},
   "outputs": [
    {
     "data": {
      "text/plain": [
       "{'title': 'Sussudio',\n",
       " 'artist': 'Phil Collins',\n",
       " 'category': 'music',\n",
       " 'year': 1985,\n",
       " 'url': 'https://www.discogs.com/Phil-Collins-Sussudio/master/106239',\n",
       " 'references': [[['American Psycho (film)']], 'Polka Party!'],\n",
       " 'chart_peaks': [{'US': 1}, {'UK': 12}]}"
      ]
     },
     "execution_count": 20,
     "metadata": {},
     "output_type": "execute_result"
    }
   ],
   "source": [
    "vault.get_front_matter('Sussudio')"
   ]
  },
  {
   "cell_type": "markdown",
   "id": "f938d6fb",
   "metadata": {},
   "source": [
    "In Sussudio note, the tag #`y1982` appears twice.  The order of appearance in their output from `get_tags()` is based on their order in the note content:"
   ]
  },
  {
   "cell_type": "code",
   "execution_count": 21,
   "id": "4fc66194",
   "metadata": {},
   "outputs": [
    {
     "data": {
      "text/plain": [
       "['y1982', 'y_1982', 'y-1982', 'y1982', 'y2000']"
      ]
     },
     "execution_count": 21,
     "metadata": {},
     "output_type": "execute_result"
    }
   ],
   "source": [
    "vault.get_tags('Sussudio')"
   ]
  },
  {
   "cell_type": "markdown",
   "id": "ec050ed3",
   "metadata": {},
   "source": [
    "## Visualise your vault"
   ]
  },
  {
   "cell_type": "markdown",
   "id": "ab59bb21",
   "metadata": {},
   "source": [
    "The Obsidian app should be where you explore your vault visually, for all the interactive benefits!\n",
    "\n",
    "If you want to do network analysis of your vault, or else focus on a subgraph, then you can do analysis through the NetworkX graph object: `vault.graph`"
   ]
  },
  {
   "cell_type": "code",
   "execution_count": 22,
   "id": "8640d072",
   "metadata": {},
   "outputs": [],
   "source": [
    "color_cat_map = {False: '#D3D3D3', True: '#826ED9'}\n",
    "color_vals = (df['note_exists']\n",
    "              .map(color_cat_map)\n",
    "              .values)"
   ]
  },
  {
   "cell_type": "markdown",
   "id": "3d8d083c",
   "metadata": {},
   "source": [
    "The notes in the graph below are purple if they have a markdown file.\n",
    "\n",
    "- <span><img src=\"https://via.placeholder.com/15/826ED9/000000?text=+#left\" alt=\"alt_text\" align=\"left\"/>: Note exists as a file</span>\n",
    "- <span><img src=\"https://via.placeholder.com/15/D3D3D3/000000?text=+#left\" alt=\"alt_text\" align=\"left\"/>: Note doesn't exist as a file </span>"
   ]
  },
  {
   "cell_type": "code",
   "execution_count": 23,
   "id": "4b89549d",
   "metadata": {},
   "outputs": [
    {
     "data": {
      "image/png": "[encoded data removed]",
      "text/plain": [
       "<Figure size 936x504 with 1 Axes>"
      ]
     },
     "metadata": {},
     "output_type": "display_data"
    }
   ],
   "source": [
    "fig, ax = plt.subplots(figsize=(13,7))\n",
    "nx.draw(vault.graph, node_color=color_vals, with_labels=True, ax=ax)\n",
    "ax.set_title('Vault graph')\n",
    "plt.show()"
   ]
  },
  {
   "cell_type": "markdown",
   "id": "ff71d6ce",
   "metadata": {},
   "source": [
    "### Graph analysis"
   ]
  },
  {
   "cell_type": "markdown",
   "id": "b2fd8ed8",
   "metadata": {},
   "source": [
    "Where `obsidiantools` has the potential to be really powerful in your Obsidian workflows is its linkage with the sophisticated graph analysis capabilities of NetworkX."
   ]
  },
  {
   "cell_type": "markdown",
   "id": "ce7fa8db",
   "metadata": {},
   "source": [
    "There are many algorithms that you can use to analyse the **centrality** of nodes in a graph in NetworkX."
   ]
  },
  {
   "cell_type": "markdown",
   "id": "14177ac5",
   "metadata": {},
   "source": [
    "Let's look at the **PageRank** of notes in the vault.  Google has used PageRank to rank the importance of search engine results.\n",
    "\n",
    "As outlined by Google:\n",
    "\n",
    ">The underlying assumption is that more important websites are likely to receive more links from other websites\n",
    "\n",
    "In the **Obsidian** realm, the notes that would be ranked highest by PageRank are the 'notes likely to receive more links from other notes', i.e. the notes that have **backlinks from a broad range of notes**.\n",
    "\n",
    "Let's see this in action."
   ]
  },
  {
   "cell_type": "code",
   "execution_count": 24,
   "id": "197c5651",
   "metadata": {},
   "outputs": [
    {
     "data": {
      "text/plain": [
       "American Psycho (film)    0.075221\n",
       "Caelum                    0.072138\n",
       "Vita                      0.067397\n",
       "Tarpeia                   0.067397\n",
       "Manus                     0.061422\n",
       "Bacchus                   0.059802\n",
       "Ne fuit                   0.053800\n",
       "Amor                      0.051161\n",
       "Dives                     0.050920\n",
       "Aetna                     0.050920\n",
       "Aras Teucras              0.048281\n",
       "Causam mihi               0.048281\n",
       "Virtus                    0.043540\n",
       "Tydides                   0.043540\n",
       "Brevissimus moenia        0.043540\n",
       "Isolated note             0.040660\n",
       "Vulnera ubera             0.040660\n",
       "Alimenta                  0.040660\n",
       "Sussudio                  0.040660\n",
       "Name: pagerank, dtype: float64"
      ]
     },
     "execution_count": 24,
     "metadata": {},
     "output_type": "execute_result"
    }
   ],
   "source": [
    "(pd.Series(nx.pagerank(vault.graph), name='pagerank')\n",
    " .sort_values(ascending=False))"
   ]
  },
  {
   "cell_type": "markdown",
   "id": "5e1c8a57",
   "metadata": {},
   "source": [
    "- `Caelum` has the highest rank in the main graph.  It has 3 backlinks from 3 notes.\n",
    "- These notes have 0 backlinks and rank very low as a result:\n",
    "    - `Isolated note` (of course!)\n",
    "    - `Vulnera ubera`\n",
    "    - `Alimenta`\n",
    "    - `Sussudio`\n",
    "- `Bacchus` has the most backlinks (5), but doesn't rank highest!  Why might that be?  Well, the quality of those backlinks are questionable.  There are 4 backlinks to the note from `Alimenta`, which has 0 backlinks.  See further analysis below on what those backlinks look like."
   ]
  },
  {
   "cell_type": "markdown",
   "id": "9a797023",
   "metadata": {},
   "source": [
    "#### Low-quality backlinks"
   ]
  },
  {
   "cell_type": "markdown",
   "id": "e5322c89",
   "metadata": {},
   "source": [
    "This is a peek at the plaintext of the files, which are only accessible after the GATHER function is called.  All the text is stored in the `text_index` of the vault."
   ]
  },
  {
   "cell_type": "code",
   "execution_count": 25,
   "id": "fce6be93",
   "metadata": {},
   "outputs": [],
   "source": [
    "last_lines_alimenta = (vault.get_text('Alimenta')\n",
    "                       .splitlines()[-5:])"
   ]
  },
  {
   "cell_type": "code",
   "execution_count": 26,
   "id": "7292086c",
   "metadata": {},
   "outputs": [
    {
     "name": "stdout",
     "output_type": "stream",
     "text": [
      "Metuunt conspecta [[Tydides]] famem, et Phryges vix est color tu aut. Tellure atque laudaret! Eo certum rupta, cur tum latere premit qui pariter aureus? Pulcherrime dolor postquam. Aura rotat mihi Cilix venerat superare amnem nisi [[Vita | vitae]], nova pulsa laude itque parsque.\n",
      "\n",
      "## More wikilinks\n",
      "\n",
      "[[Bacchus]] [[Bacchus]] [[Bacchus]]\n"
     ]
    }
   ],
   "source": [
    "for l in last_lines_alimenta:\n",
    "    print(l)"
   ]
  },
  {
   "cell_type": "markdown",
   "id": "7aa3f379",
   "metadata": {},
   "source": [
    "Here we can see that there are a few repetitive wikilinks to `Bacchus` at the end of the file.  As it happens, all the other notes in this vault only link to another note once.  This is where the quality of backlinks matter to PageRank: notes don't rank high if they pile up backlinks from one note."
   ]
  }
 ],
 "metadata": {
  "kernelspec": {
   "display_name": "Python 3 (ipykernel)",
   "language": "python",
   "name": "python3"
  },
  "language_info": {
   "codemirror_mode": {
    "name": "ipython",
    "version": 3
   },
   "file_extension": ".py",
   "mimetype": "text/x-python",
   "name": "python",
   "nbconvert_exporter": "python",
   "pygments_lexer": "ipython3",
   "version": "3.9.7"
  }
 },
 "nbformat": 4,
 "nbformat_minor": 5
}
