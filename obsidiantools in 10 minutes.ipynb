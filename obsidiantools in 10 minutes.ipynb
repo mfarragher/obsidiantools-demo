{
 "cells": [
  {
   "cell_type": "markdown",
   "id": "485c35f2",
   "metadata": {},
   "source": [
    "**obsidiantools in 10 minutes**"
   ]
  },
  {
   "cell_type": "markdown",
   "id": "a4dd8e34",
   "metadata": {},
   "source": [
    "# Libraries and config"
   ]
  },
  {
   "cell_type": "code",
   "execution_count": 1,
   "id": "7f59b557",
   "metadata": {},
   "outputs": [],
   "source": [
    "# built-in libs\n",
    "import os\n",
    "from pathlib import Path\n",
    "\n",
    "# obsidiantools requirements\n",
    "import numpy as np\n",
    "import pandas as pd\n",
    "import networkx as nx\n",
    "\n",
    "# extra libs for this notebook (visualise graph)\n",
    "import matplotlib.pyplot as plt\n",
    "%matplotlib inline"
   ]
  },
  {
   "cell_type": "code",
   "execution_count": 2,
   "id": "efcf891d",
   "metadata": {},
   "outputs": [
    {
     "name": "stdout",
     "output_type": "stream",
     "text": [
      "Name: obsidiantools\r\n",
      "Version: 0.5.0\r\n",
      "Summary: Obsidian Tools - a Python interface for Obsidian.md vaults\r\n",
      "Home-page: https://github.com/mfarragher/obsidiantools\r\n",
      "Author: Mark Farragher\r\n",
      "Author-email: \r\n",
      "License: BSD\r\n",
      "Location: /home/mark/miniconda3/envs/obsidian2/lib/python3.9/site-packages\r\n",
      "Requires: html2text, markdown, pandas, numpy, networkx\r\n",
      "Required-by: \r\n"
     ]
    }
   ],
   "source": [
    "!pip show obsidiantools"
   ]
  },
  {
   "cell_type": "markdown",
   "id": "8cd600fe",
   "metadata": {},
   "source": [
    "## Vault directory"
   ]
  },
  {
   "cell_type": "code",
   "execution_count": 3,
   "id": "cb3495be",
   "metadata": {},
   "outputs": [],
   "source": [
    "VAULT_DIR = Path(os.getcwd()) / 'vault-stub'"
   ]
  },
  {
   "cell_type": "code",
   "execution_count": 4,
   "id": "85f65a04",
   "metadata": {},
   "outputs": [
    {
     "data": {
      "text/plain": [
       "True"
      ]
     },
     "execution_count": 4,
     "metadata": {},
     "output_type": "execute_result"
    }
   ],
   "source": [
    "VAULT_DIR.exists()"
   ]
  },
  {
   "cell_type": "markdown",
   "id": "93b2b3d9",
   "metadata": {},
   "source": [
    "## Obsidian tools"
   ]
  },
  {
   "cell_type": "code",
   "execution_count": 5,
   "id": "e0e10433",
   "metadata": {},
   "outputs": [],
   "source": [
    "import obsidiantools.api as otools  # api shorthand"
   ]
  },
  {
   "cell_type": "markdown",
   "id": "c7f15b1b",
   "metadata": {},
   "source": [
    "# Explore your vault"
   ]
  },
  {
   "cell_type": "markdown",
   "id": "9165d22b",
   "metadata": {},
   "source": [
    "## Simple one-liner for setup 😎"
   ]
  },
  {
   "cell_type": "markdown",
   "id": "87f21c34",
   "metadata": {},
   "source": [
    "The `Vault` class is the object you need for exploring your vault.  Set up the object with the path to your directory.\n",
    "\n",
    "**CONNECT** is the method for connecting all your vault notes.  Once that is done, you will be able to access various details about your vault's notes."
   ]
  },
  {
   "cell_type": "code",
   "execution_count": 6,
   "id": "d0dfef9a",
   "metadata": {},
   "outputs": [],
   "source": [
    "vault = otools.Vault(VAULT_DIR).connect()"
   ]
  },
  {
   "cell_type": "markdown",
   "id": "f18888a9",
   "metadata": {},
   "source": [
    "Attribute that says whether vault is connected:"
   ]
  },
  {
   "cell_type": "code",
   "execution_count": 7,
   "id": "153684d5",
   "metadata": {},
   "outputs": [
    {
     "data": {
      "text/plain": [
       "True"
      ]
     },
     "execution_count": 7,
     "metadata": {},
     "output_type": "execute_result"
    }
   ],
   "source": [
    "vault.is_connected"
   ]
  },
  {
   "cell_type": "markdown",
   "id": "aa069f9a",
   "metadata": {},
   "source": [
    "Attribute that stores the location of your vault"
   ]
  },
  {
   "cell_type": "code",
   "execution_count": 8,
   "id": "88421277",
   "metadata": {},
   "outputs": [
    {
     "data": {
      "text/plain": [
       "PosixPath('/home/mark/Github/obsidiantools-demo/vault-stub')"
      ]
     },
     "execution_count": 8,
     "metadata": {},
     "output_type": "execute_result"
    }
   ],
   "source": [
    "vault.dirpath"
   ]
  },
  {
   "cell_type": "markdown",
   "id": "a37e0d56",
   "metadata": {},
   "source": [
    "## Tell me about my vault..."
   ]
  },
  {
   "cell_type": "markdown",
   "id": "019e1dcd",
   "metadata": {},
   "source": [
    "### 1. What files do I have in my vault?"
   ]
  },
  {
   "cell_type": "code",
   "execution_count": 9,
   "id": "34636817",
   "metadata": {},
   "outputs": [
    {
     "data": {
      "text/plain": [
       "{'Sussudio': PosixPath('Sussudio.md'),\n",
       " 'Brevissimus moenia': PosixPath('lipsum/Brevissimus moenia.md'),\n",
       " 'Ne fuit': PosixPath('lipsum/Ne fuit.md'),\n",
       " 'Alimenta': PosixPath('lipsum/Alimenta.md'),\n",
       " 'Vulnera ubera': PosixPath('lipsum/Vulnera ubera.md'),\n",
       " 'Causam mihi': PosixPath('lipsum/Causam mihi.md')}"
      ]
     },
     "execution_count": 9,
     "metadata": {},
     "output_type": "execute_result"
    }
   ],
   "source": [
    "vault.file_index"
   ]
  },
  {
   "cell_type": "markdown",
   "id": "557df3f3",
   "metadata": {},
   "source": [
    "### 2. Which notes are 'isolated' in my vault?"
   ]
  },
  {
   "cell_type": "markdown",
   "id": "c0de5cbf",
   "metadata": {},
   "source": [
    "In graph analysis, nodes are **isolated** if they do not connect to other nodes in a graph.  Each NOTE in your vault in graph terminology is a node.\n",
    "\n",
    "In the Obsidian world, what does it mean for notes to be isolated?\n",
    "\n",
    "**Isolated notes** have **no backlinks** AND **no wikilinks**."
   ]
  },
  {
   "cell_type": "code",
   "execution_count": 10,
   "id": "3f51cf27",
   "metadata": {},
   "outputs": [
    {
     "data": {
      "text/plain": [
       "['Sussudio']"
      ]
     },
     "execution_count": 10,
     "metadata": {},
     "output_type": "execute_result"
    }
   ],
   "source": [
    "vault.isolated_notes"
   ]
  },
  {
   "cell_type": "markdown",
   "id": "2943ebc4",
   "metadata": {},
   "source": [
    "In the Obsidian community these notes are often called 'orphan notes'.  This interface is sticking to graph analysis terminology; NetworkX calls the graph nodes 'isolates'."
   ]
  },
  {
   "cell_type": "markdown",
   "id": "8ff3cfab",
   "metadata": {},
   "source": [
    "### 3. Which notes have I not got round to creating yet?"
   ]
  },
  {
   "cell_type": "markdown",
   "id": "9f55707f",
   "metadata": {},
   "source": [
    "When you create wikilinks in your vault notes, you can create connections to notes that you haven't created yet.  This means that these new notes have backlinks and are displayed in your vault graph, but they don't exist as markdown files.\n",
    "\n",
    "In this interface these are called **nonexistent notes**."
   ]
  },
  {
   "cell_type": "code",
   "execution_count": 11,
   "id": "6c5d1f28",
   "metadata": {},
   "outputs": [
    {
     "data": {
      "text/plain": [
       "['Caelum',\n",
       " 'Aetna',\n",
       " 'Vita',\n",
       " 'Tarpeia',\n",
       " 'Dives',\n",
       " 'Bacchus',\n",
       " 'Virtus',\n",
       " 'Aras Teucras',\n",
       " 'Manus',\n",
       " 'Tydides',\n",
       " 'Amor']"
      ]
     },
     "execution_count": 11,
     "metadata": {},
     "output_type": "execute_result"
    }
   ],
   "source": [
    "vault.nonexistent_notes"
   ]
  },
  {
   "cell_type": "markdown",
   "id": "0cf2c9a4",
   "metadata": {},
   "source": [
    "### 4. What are the notes that have the most backlinks?"
   ]
  },
  {
   "cell_type": "markdown",
   "id": "b12fcdc1",
   "metadata": {},
   "source": [
    "The **`get_note_metadata`** method gives a summary of your vault's notes.\n",
    "\n",
    "You can see, for example:\n",
    "- Counts of backlinks (`n_backlinks`)\n",
    "- Counts of wikilinks (`n_wikilinks`)"
   ]
  },
  {
   "cell_type": "code",
   "execution_count": 12,
   "id": "b0b3d260",
   "metadata": {},
   "outputs": [],
   "source": [
    "df = vault.get_note_metadata()"
   ]
  },
  {
   "cell_type": "code",
   "execution_count": 13,
   "id": "f647acff",
   "metadata": {},
   "outputs": [
    {
     "name": "stdout",
     "output_type": "stream",
     "text": [
      "<class 'pandas.core.frame.DataFrame'>\n",
      "Index: 17 entries, Sussudio to Aetna\n",
      "Data columns (total 5 columns):\n",
      " #   Column        Non-Null Count  Dtype  \n",
      "---  ------        --------------  -----  \n",
      " 0   rel_filepath  6 non-null      object \n",
      " 1   abs_filepath  6 non-null      object \n",
      " 2   note_exists   17 non-null     bool   \n",
      " 3   n_backlinks   17 non-null     int64  \n",
      " 4   n_wikilinks   6 non-null      float64\n",
      "dtypes: bool(1), float64(1), int64(1), object(2)\n",
      "memory usage: 697.0+ bytes\n"
     ]
    }
   ],
   "source": [
    "df.info()"
   ]
  },
  {
   "cell_type": "markdown",
   "id": "22a22c6b",
   "metadata": {},
   "source": [
    "Sort these notes by number of backlinks (descending order)."
   ]
  },
  {
   "cell_type": "code",
   "execution_count": 14,
   "id": "f8f4d1bf",
   "metadata": {},
   "outputs": [
    {
     "data": {
      "text/html": [
       "<div>\n",
       "<style scoped>\n",
       "    .dataframe tbody tr th:only-of-type {\n",
       "        vertical-align: middle;\n",
       "    }\n",
       "\n",
       "    .dataframe tbody tr th {\n",
       "        vertical-align: top;\n",
       "    }\n",
       "\n",
       "    .dataframe thead th {\n",
       "        text-align: right;\n",
       "    }\n",
       "</style>\n",
       "<table border=\"1\" class=\"dataframe\">\n",
       "  <thead>\n",
       "    <tr style=\"text-align: right;\">\n",
       "      <th></th>\n",
       "      <th>rel_filepath</th>\n",
       "      <th>abs_filepath</th>\n",
       "      <th>note_exists</th>\n",
       "      <th>n_backlinks</th>\n",
       "      <th>n_wikilinks</th>\n",
       "    </tr>\n",
       "    <tr>\n",
       "      <th>note</th>\n",
       "      <th></th>\n",
       "      <th></th>\n",
       "      <th></th>\n",
       "      <th></th>\n",
       "      <th></th>\n",
       "    </tr>\n",
       "  </thead>\n",
       "  <tbody>\n",
       "    <tr>\n",
       "      <th>Bacchus</th>\n",
       "      <td>NaN</td>\n",
       "      <td>NaN</td>\n",
       "      <td>False</td>\n",
       "      <td>5</td>\n",
       "      <td>NaN</td>\n",
       "    </tr>\n",
       "    <tr>\n",
       "      <th>Vita</th>\n",
       "      <td>NaN</td>\n",
       "      <td>NaN</td>\n",
       "      <td>False</td>\n",
       "      <td>3</td>\n",
       "      <td>NaN</td>\n",
       "    </tr>\n",
       "    <tr>\n",
       "      <th>Manus</th>\n",
       "      <td>NaN</td>\n",
       "      <td>NaN</td>\n",
       "      <td>False</td>\n",
       "      <td>3</td>\n",
       "      <td>NaN</td>\n",
       "    </tr>\n",
       "    <tr>\n",
       "      <th>Tarpeia</th>\n",
       "      <td>NaN</td>\n",
       "      <td>NaN</td>\n",
       "      <td>False</td>\n",
       "      <td>3</td>\n",
       "      <td>NaN</td>\n",
       "    </tr>\n",
       "    <tr>\n",
       "      <th>Caelum</th>\n",
       "      <td>NaN</td>\n",
       "      <td>NaN</td>\n",
       "      <td>False</td>\n",
       "      <td>3</td>\n",
       "      <td>NaN</td>\n",
       "    </tr>\n",
       "    <tr>\n",
       "      <th>Ne fuit</th>\n",
       "      <td>lipsum/Ne fuit.md</td>\n",
       "      <td>/home/mark/Github/obsidiantools-demo/vault-stu...</td>\n",
       "      <td>True</td>\n",
       "      <td>2</td>\n",
       "      <td>6.0</td>\n",
       "    </tr>\n",
       "    <tr>\n",
       "      <th>Amor</th>\n",
       "      <td>NaN</td>\n",
       "      <td>NaN</td>\n",
       "      <td>False</td>\n",
       "      <td>2</td>\n",
       "      <td>NaN</td>\n",
       "    </tr>\n",
       "    <tr>\n",
       "      <th>Dives</th>\n",
       "      <td>NaN</td>\n",
       "      <td>NaN</td>\n",
       "      <td>False</td>\n",
       "      <td>1</td>\n",
       "      <td>NaN</td>\n",
       "    </tr>\n",
       "    <tr>\n",
       "      <th>Tydides</th>\n",
       "      <td>NaN</td>\n",
       "      <td>NaN</td>\n",
       "      <td>False</td>\n",
       "      <td>1</td>\n",
       "      <td>NaN</td>\n",
       "    </tr>\n",
       "    <tr>\n",
       "      <th>Virtus</th>\n",
       "      <td>NaN</td>\n",
       "      <td>NaN</td>\n",
       "      <td>False</td>\n",
       "      <td>1</td>\n",
       "      <td>NaN</td>\n",
       "    </tr>\n",
       "    <tr>\n",
       "      <th>Aetna</th>\n",
       "      <td>NaN</td>\n",
       "      <td>NaN</td>\n",
       "      <td>False</td>\n",
       "      <td>1</td>\n",
       "      <td>NaN</td>\n",
       "    </tr>\n",
       "    <tr>\n",
       "      <th>Aras Teucras</th>\n",
       "      <td>NaN</td>\n",
       "      <td>NaN</td>\n",
       "      <td>False</td>\n",
       "      <td>1</td>\n",
       "      <td>NaN</td>\n",
       "    </tr>\n",
       "    <tr>\n",
       "      <th>Brevissimus moenia</th>\n",
       "      <td>lipsum/Brevissimus moenia.md</td>\n",
       "      <td>/home/mark/Github/obsidiantools-demo/vault-stu...</td>\n",
       "      <td>True</td>\n",
       "      <td>1</td>\n",
       "      <td>3.0</td>\n",
       "    </tr>\n",
       "    <tr>\n",
       "      <th>Causam mihi</th>\n",
       "      <td>lipsum/Causam mihi.md</td>\n",
       "      <td>/home/mark/Github/obsidiantools-demo/vault-stu...</td>\n",
       "      <td>True</td>\n",
       "      <td>1</td>\n",
       "      <td>4.0</td>\n",
       "    </tr>\n",
       "    <tr>\n",
       "      <th>Vulnera ubera</th>\n",
       "      <td>lipsum/Vulnera ubera.md</td>\n",
       "      <td>/home/mark/Github/obsidiantools-demo/vault-stu...</td>\n",
       "      <td>True</td>\n",
       "      <td>0</td>\n",
       "      <td>3.0</td>\n",
       "    </tr>\n",
       "    <tr>\n",
       "      <th>Alimenta</th>\n",
       "      <td>lipsum/Alimenta.md</td>\n",
       "      <td>/home/mark/Github/obsidiantools-demo/vault-stu...</td>\n",
       "      <td>True</td>\n",
       "      <td>0</td>\n",
       "      <td>12.0</td>\n",
       "    </tr>\n",
       "    <tr>\n",
       "      <th>Sussudio</th>\n",
       "      <td>Sussudio.md</td>\n",
       "      <td>/home/mark/Github/obsidiantools-demo/vault-stu...</td>\n",
       "      <td>True</td>\n",
       "      <td>0</td>\n",
       "      <td>0.0</td>\n",
       "    </tr>\n",
       "  </tbody>\n",
       "</table>\n",
       "</div>"
      ],
      "text/plain": [
       "                                    rel_filepath  \\\n",
       "note                                               \n",
       "Bacchus                                      NaN   \n",
       "Vita                                         NaN   \n",
       "Manus                                        NaN   \n",
       "Tarpeia                                      NaN   \n",
       "Caelum                                       NaN   \n",
       "Ne fuit                        lipsum/Ne fuit.md   \n",
       "Amor                                         NaN   \n",
       "Dives                                        NaN   \n",
       "Tydides                                      NaN   \n",
       "Virtus                                       NaN   \n",
       "Aetna                                        NaN   \n",
       "Aras Teucras                                 NaN   \n",
       "Brevissimus moenia  lipsum/Brevissimus moenia.md   \n",
       "Causam mihi                lipsum/Causam mihi.md   \n",
       "Vulnera ubera            lipsum/Vulnera ubera.md   \n",
       "Alimenta                      lipsum/Alimenta.md   \n",
       "Sussudio                             Sussudio.md   \n",
       "\n",
       "                                                         abs_filepath  \\\n",
       "note                                                                    \n",
       "Bacchus                                                           NaN   \n",
       "Vita                                                              NaN   \n",
       "Manus                                                             NaN   \n",
       "Tarpeia                                                           NaN   \n",
       "Caelum                                                            NaN   \n",
       "Ne fuit             /home/mark/Github/obsidiantools-demo/vault-stu...   \n",
       "Amor                                                              NaN   \n",
       "Dives                                                             NaN   \n",
       "Tydides                                                           NaN   \n",
       "Virtus                                                            NaN   \n",
       "Aetna                                                             NaN   \n",
       "Aras Teucras                                                      NaN   \n",
       "Brevissimus moenia  /home/mark/Github/obsidiantools-demo/vault-stu...   \n",
       "Causam mihi         /home/mark/Github/obsidiantools-demo/vault-stu...   \n",
       "Vulnera ubera       /home/mark/Github/obsidiantools-demo/vault-stu...   \n",
       "Alimenta            /home/mark/Github/obsidiantools-demo/vault-stu...   \n",
       "Sussudio            /home/mark/Github/obsidiantools-demo/vault-stu...   \n",
       "\n",
       "                    note_exists  n_backlinks  n_wikilinks  \n",
       "note                                                       \n",
       "Bacchus                   False            5          NaN  \n",
       "Vita                      False            3          NaN  \n",
       "Manus                     False            3          NaN  \n",
       "Tarpeia                   False            3          NaN  \n",
       "Caelum                    False            3          NaN  \n",
       "Ne fuit                    True            2          6.0  \n",
       "Amor                      False            2          NaN  \n",
       "Dives                     False            1          NaN  \n",
       "Tydides                   False            1          NaN  \n",
       "Virtus                    False            1          NaN  \n",
       "Aetna                     False            1          NaN  \n",
       "Aras Teucras              False            1          NaN  \n",
       "Brevissimus moenia         True            1          3.0  \n",
       "Causam mihi                True            1          4.0  \n",
       "Vulnera ubera              True            0          3.0  \n",
       "Alimenta                   True            0         12.0  \n",
       "Sussudio                   True            0          0.0  "
      ]
     },
     "execution_count": 14,
     "metadata": {},
     "output_type": "execute_result"
    }
   ],
   "source": [
    "df.sort_values('n_backlinks', ascending=False)"
   ]
  },
  {
   "cell_type": "markdown",
   "id": "0b4f3365",
   "metadata": {},
   "source": [
    "We can see that **Bacchus** has the most backlinks.  It's actually a nonexistent note."
   ]
  },
  {
   "cell_type": "code",
   "execution_count": 15,
   "id": "7aa4204a",
   "metadata": {},
   "outputs": [
    {
     "data": {
      "text/plain": [
       "['Ne fuit', 'Alimenta', 'Alimenta', 'Alimenta', 'Alimenta']"
      ]
     },
     "execution_count": 15,
     "metadata": {},
     "output_type": "execute_result"
    }
   ],
   "source": [
    "vault.get_backlinks('Bacchus')"
   ]
  },
  {
   "cell_type": "code",
   "execution_count": 16,
   "id": "8ca47830",
   "metadata": {},
   "outputs": [
    {
     "data": {
      "text/plain": [
       "{'Ne fuit': 1, 'Alimenta': 4}"
      ]
     },
     "execution_count": 16,
     "metadata": {},
     "output_type": "execute_result"
    }
   ],
   "source": [
    "vault.get_backlink_counts('Bacchus')"
   ]
  },
  {
   "cell_type": "markdown",
   "id": "f36d0ae4",
   "metadata": {},
   "source": [
    "You can see all the backlinks in the `backlinks_index`."
   ]
  },
  {
   "cell_type": "code",
   "execution_count": 17,
   "id": "048fb5f2",
   "metadata": {},
   "outputs": [
    {
     "data": {
      "text/plain": [
       "{'Sussudio': [],\n",
       " 'Brevissimus moenia': ['Alimenta'],\n",
       " 'Ne fuit': ['Alimenta', 'Causam mihi'],\n",
       " 'Alimenta': [],\n",
       " 'Vulnera ubera': [],\n",
       " 'Causam mihi': ['Ne fuit'],\n",
       " 'Tarpeia': ['Brevissimus moenia', 'Alimenta', 'Vulnera ubera'],\n",
       " 'Caelum': ['Brevissimus moenia', 'Ne fuit', 'Vulnera ubera'],\n",
       " 'Vita': ['Brevissimus moenia', 'Alimenta', 'Vulnera ubera'],\n",
       " 'Aras Teucras': ['Ne fuit'],\n",
       " 'Manus': ['Ne fuit', 'Alimenta', 'Causam mihi'],\n",
       " 'Bacchus': ['Ne fuit', 'Alimenta', 'Alimenta', 'Alimenta', 'Alimenta'],\n",
       " 'Amor': ['Ne fuit', 'Alimenta'],\n",
       " 'Virtus': ['Alimenta'],\n",
       " 'Tydides': ['Alimenta'],\n",
       " 'Dives': ['Causam mihi'],\n",
       " 'Aetna': ['Causam mihi']}"
      ]
     },
     "execution_count": 17,
     "metadata": {},
     "output_type": "execute_result"
    }
   ],
   "source": [
    "vault.backlinks_index"
   ]
  },
  {
   "cell_type": "markdown",
   "id": "f01ecb4e",
   "metadata": {},
   "source": [
    "Similar functionality exists in the API for wikilinks (e.g. `wikilinks_index`, `get_wikilinks`)"
   ]
  },
  {
   "cell_type": "markdown",
   "id": "ec050ed3",
   "metadata": {},
   "source": [
    "## Visualise your vault"
   ]
  },
  {
   "cell_type": "markdown",
   "id": "ab59bb21",
   "metadata": {},
   "source": [
    "The Obsidian app should be where you explore your vault visually, for all the interactive benefits!\n",
    "\n",
    "If you want to do network analysis of your vault, or else focus on a subgraph, then you can do analysis through the NetworkX graph object: `vault.graph`"
   ]
  },
  {
   "cell_type": "code",
   "execution_count": 18,
   "id": "8640d072",
   "metadata": {},
   "outputs": [],
   "source": [
    "color_cat_map = {False: '#D3D3D3', True: '#826ED9'}\n",
    "color_vals = (df['note_exists']\n",
    "              .map(color_cat_map)\n",
    "              .values)"
   ]
  },
  {
   "cell_type": "markdown",
   "id": "3d8d083c",
   "metadata": {},
   "source": [
    "The notes in the graph below are purple if they have a markdown file.\n",
    "\n",
    "- <span><img src=\"https://via.placeholder.com/15/826ED9/000000?text=+#left\" alt=\"alt_text\" align=\"left\"/>: Note exists as a file</span>\n",
    "- <span><img src=\"https://via.placeholder.com/15/D3D3D3/000000?text=+#left\" alt=\"alt_text\" align=\"left\"/>: Note doesn't exist as a file </span>"
   ]
  },
  {
   "cell_type": "code",
   "execution_count": 19,
   "id": "4b89549d",
   "metadata": {},
   "outputs": [
    {
     "data": {
      "image/png": "[encoded data removed]",
      "text/plain": [
       "<Figure size 936x504 with 1 Axes>"
      ]
     },
     "metadata": {},
     "output_type": "display_data"
    }
   ],
   "source": [
    "fig, ax = plt.subplots(figsize=(13,7))\n",
    "nx.draw(vault.graph, node_color=color_vals, with_labels=True, ax=ax)\n",
    "ax.set_title('Vault graph')\n",
    "plt.show()"
   ]
  },
  {
   "cell_type": "markdown",
   "id": "ff71d6ce",
   "metadata": {},
   "source": [
    "### Graph analysis"
   ]
  },
  {
   "cell_type": "markdown",
   "id": "b2fd8ed8",
   "metadata": {},
   "source": [
    "Where `obsidiantools` has the potential to be really powerful in your Obsidian workflows is its linkage with the sophisticated graph analysis capabilities of NetworkX."
   ]
  },
  {
   "cell_type": "markdown",
   "id": "ce7fa8db",
   "metadata": {},
   "source": [
    "There are many algorithms that you can use to analyse the **centrality** of nodes in a graph in NetworkX."
   ]
  },
  {
   "cell_type": "markdown",
   "id": "14177ac5",
   "metadata": {},
   "source": [
    "Let's look at the **PageRank** of notes in the vault.  Google has used PageRank to rank the importance of search engine results.\n",
    "\n",
    "As outlined by Google:\n",
    "\n",
    ">The underlying assumption is that more important websites are likely to receive more links from other websites\n",
    "\n",
    "In the **Obsidian** realm, the notes that would be ranked highest by PageRank are the 'notes likely to receive more links from other notes', i.e. the notes that have **backlinks from a broad range of notes**.\n",
    "\n",
    "Let's see this in action."
   ]
  },
  {
   "cell_type": "code",
   "execution_count": 20,
   "id": "197c5651",
   "metadata": {},
   "outputs": [
    {
     "data": {
      "text/plain": [
       "Caelum                0.081593\n",
       "Vita                  0.076230\n",
       "Tarpeia               0.076230\n",
       "Manus                 0.069472\n",
       "Bacchus               0.067640\n",
       "Ne fuit               0.060851\n",
       "Amor                  0.057867\n",
       "Dives                 0.057594\n",
       "Aetna                 0.057594\n",
       "Aras Teucras          0.054610\n",
       "Causam mihi           0.054610\n",
       "Brevissimus moenia    0.049247\n",
       "Virtus                0.049247\n",
       "Tydides               0.049247\n",
       "Vulnera ubera         0.045989\n",
       "Alimenta              0.045989\n",
       "Sussudio              0.045989\n",
       "Name: pagerank, dtype: float64"
      ]
     },
     "execution_count": 20,
     "metadata": {},
     "output_type": "execute_result"
    }
   ],
   "source": [
    "(pd.Series(nx.pagerank(vault.graph), name='pagerank')\n",
    " .sort_values(ascending=False))"
   ]
  },
  {
   "cell_type": "markdown",
   "id": "5e1c8a57",
   "metadata": {},
   "source": [
    "- `Caelum` has the highest rank.  It has 3 backlinks from 3 notes.\n",
    "- These notes have 0 backlinks and rank very low as a result:\n",
    "    - `Vulnera ubera`\n",
    "    - `Alimenta`\n",
    "    - `Sussudio`\n",
    "- `Bacchus` has the most backlinks (5), but doesn't rank highest!  Why might that be?  Well, the quality of those backlinks are questionable.  There are 4 backlinks to the note from `Alimenta`, which has 0 backlinks.  See further analysis below on what those backlinks look like."
   ]
  },
  {
   "cell_type": "markdown",
   "id": "9a797023",
   "metadata": {},
   "source": [
    "#### Low-quality backlinks"
   ]
  },
  {
   "cell_type": "markdown",
   "id": "e5322c89",
   "metadata": {},
   "source": [
    "`md_utils` module has the logic for parsing markdown files.  Use the API (`api`) for your vault analytics.\n",
    "\n",
    "This is a peek at the plaintext of the files."
   ]
  },
  {
   "cell_type": "code",
   "execution_count": 21,
   "id": "5bd444af",
   "metadata": {},
   "outputs": [],
   "source": [
    "from obsidiantools import md_utils"
   ]
  },
  {
   "cell_type": "code",
   "execution_count": 22,
   "id": "fce6be93",
   "metadata": {},
   "outputs": [],
   "source": [
    "last_lines_alimenta = (md_utils._get_ascii_plaintext_from_md_file(\n",
    "    vault.dirpath / vault.file_index.get('Alimenta'))\n",
    "                       .splitlines()[-5:])"
   ]
  },
  {
   "cell_type": "code",
   "execution_count": 23,
   "id": "7292086c",
   "metadata": {},
   "outputs": [
    {
     "name": "stdout",
     "output_type": "stream",
     "text": [
      "Metuunt conspecta [[Tydides]] famem, et Phryges vix est color tu aut. Tellure atque laudaret! Eo certum rupta, cur tum latere premit qui pariter aureus? Pulcherrime dolor postquam. Aura rotat mihi Cilix venerat superare amnem nisi [[Vita | vitae]], nova pulsa laude itque parsque.\n",
      "\n",
      "## More wikilinks\n",
      "\n",
      "[[Bacchus]] [[Bacchus]] [[Bacchus]]\n"
     ]
    }
   ],
   "source": [
    "for l in last_lines_alimenta:\n",
    "    print(l)"
   ]
  },
  {
   "cell_type": "markdown",
   "id": "7aa3f379",
   "metadata": {},
   "source": [
    "Here we can see that there are a few repetitive wikilinks to `Bacchus` at the end of the file.  As it happens, all the other notes in this vault only link to another note once.  This is where the quality of backlinks matter to PageRank: notes rank don't rank high if they pile up backlinks in one note."
   ]
  }
 ],
 "metadata": {
  "kernelspec": {
   "display_name": "Python 3 (ipykernel)",
   "language": "python",
   "name": "python3"
  },
  "language_info": {
   "codemirror_mode": {
    "name": "ipython",
    "version": 3
   },
   "file_extension": ".py",
   "mimetype": "text/x-python",
   "name": "python",
   "nbconvert_exporter": "python",
   "pygments_lexer": "ipython3",
   "version": "3.9.6"
  }
 },
 "nbformat": 4,
 "nbformat_minor": 5
}
